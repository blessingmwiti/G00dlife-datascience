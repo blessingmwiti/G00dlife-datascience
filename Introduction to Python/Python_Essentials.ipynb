{
  "cells": [
    {
      "cell_type": "markdown",
      "metadata": {
        "id": "PPsHhouLL3Ng"
      },
      "source": [
        "<h1><b><u>Introduction to python programming Language<u><b></h1>"
      ]
    },
    {
      "cell_type": "markdown",
      "metadata": {
        "id": "-pCKwv9AM7HO"
      },
      "source": [
        "<p>Python is a high-level, interpreted, and general-purpose programming language.</p>\n",
        "<p>It emphasizes code readability and has a relatively simple syntax, making it suitable for beginners and experts alike.</p>\n",
        "\n",
        "Here's a brief overview of some essential data types and concepts in Python."
      ]
    },
    {
      "cell_type": "markdown",
      "metadata": {
        "id": "cMaDiaI9Nc5b"
      },
      "source": [
        "# 1. Variables and Data Types\n",
        "\n",
        "\n",
        "` Python supports various data types including integers, floats, strings, booleans, etc. `<br>\n",
        "` You can declare variables without specifying the data type explicitly.`\n",
        "\n",
        "### <u>Intergers</u>\n",
        "\n",
        "Integers are <b>whole numbers without any fractional part</b>. In Python, integers can be positive, negative, or zero. Python integers have unlimited precision, meaning they can be as large as your system's memory allows.\n",
        "\n",
        "\n",
        "Declaration and Assignment:<br>\n",
        "You can declare and assign integer values to variables using the following syntax:\n",
        "\n"
      ]
    },
    {
      "cell_type": "code",
      "execution_count": 1,
      "metadata": {
        "id": "bPAV6tH9Pn4q"
      },
      "outputs": [],
      "source": [
        "x = 10\n",
        "y = -5\n",
        "z = 0\n"
      ]
    },
    {
      "cell_type": "code",
      "execution_count": 2,
      "metadata": {
        "colab": {
          "base_uri": "https://localhost:8080/"
        },
        "id": "ulTin4QrPsfE",
        "outputId": "59c06ee4-d27a-4d08-e811-2dc3c5399415"
      },
      "outputs": [
        {
          "name": "stdout",
          "output_type": "stream",
          "text": [
            "-5\n"
          ]
        }
      ],
      "source": [
        "#This will print the element stored in variable y\n",
        "print(y)"
      ]
    },
    {
      "cell_type": "markdown",
      "metadata": {
        "id": "hITIFZyNP6pT"
      },
      "source": [
        "Basic Operations:<br>\n",
        "Python supports various arithmetic operations on integers:"
      ]
    },
    {
      "cell_type": "code",
      "execution_count": 3,
      "metadata": {
        "colab": {
          "base_uri": "https://localhost:8080/"
        },
        "id": "yoqXjOJLP-0T",
        "outputId": "16ec7a1b-d46e-4c9b-c0ab-16ed72ba2d80"
      },
      "outputs": [
        {
          "data": {
            "text/plain": [
              "15"
            ]
          },
          "execution_count": 3,
          "metadata": {},
          "output_type": "execute_result"
        }
      ],
      "source": [
        "# Addition\n",
        "result_addition = 10 + 5  # result_addition will be 15\n",
        "result_addition\n"
      ]
    },
    {
      "cell_type": "code",
      "execution_count": 4,
      "metadata": {
        "id": "HnB2JQjRRDp0"
      },
      "outputs": [],
      "source": [
        "# Addition\n",
        "result_addition = 10 + 5  # result_addition will be 15\n",
        "\n",
        "# Subtraction\n",
        "result_subtraction = 10 - 5  # result_subtraction will be 5\n",
        "\n",
        "# Multiplication\n",
        "result_multiplication = 10 * 5  # result_multiplication will be 50\n",
        "\n",
        "# Division\n",
        "result_division = 10 / 5  # result_division will be 2.0 (floating-point division)\n",
        "\n",
        "# Integer Division (Floor Division)\n",
        "result_floor_division = 10 // 3  # result_floor_division will be 3\n",
        "\n",
        "# Modulus (Remainder)\n",
        "result_modulus = 10 % 3  # result_modulus will be 1\n",
        "\n",
        "# Exponentiation\n",
        "result_exponentiation = 2 ** 3  # result_exponentiation will be 8\n"
      ]
    },
    {
      "cell_type": "code",
      "execution_count": 5,
      "metadata": {
        "colab": {
          "base_uri": "https://localhost:8080/"
        },
        "id": "6ON7v8j1RJhN",
        "outputId": "0c0df6ea-8d2e-409b-8c88-84b77e7b8be0"
      },
      "outputs": [
        {
          "name": "stdout",
          "output_type": "stream",
          "text": [
            "Addition: 13\n"
          ]
        }
      ],
      "source": [
        "# Declaration and assignment\n",
        "a = 10\n",
        "b = 3\n",
        "\n",
        "# Addition\n",
        "addition_result = a + b\n",
        "print(\"Addition:\", addition_result)  # Output: 13\n",
        "\n"
      ]
    },
    {
      "cell_type": "code",
      "execution_count": 6,
      "metadata": {
        "colab": {
          "base_uri": "https://localhost:8080/"
        },
        "id": "Fioj2z_fS7es",
        "outputId": "a668eaeb-10a2-49ad-f877-50bf082c8681"
      },
      "outputs": [
        {
          "name": "stdout",
          "output_type": "stream",
          "text": [
            "Subtraction: 7\n"
          ]
        }
      ],
      "source": [
        "# Subtraction\n",
        "subtraction_result = a - b\n",
        "print(\"Subtraction:\", subtraction_result)  # Output: 7\n"
      ]
    },
    {
      "cell_type": "code",
      "execution_count": 7,
      "metadata": {
        "colab": {
          "base_uri": "https://localhost:8080/"
        },
        "id": "O93crJNcTARx",
        "outputId": "24117c8d-99c0-4893-850d-9aecbd4f9295"
      },
      "outputs": [
        {
          "name": "stdout",
          "output_type": "stream",
          "text": [
            "Multiplication: 30\n"
          ]
        }
      ],
      "source": [
        "# Multiplication\n",
        "multiplication_result = a * b\n",
        "print(\"Multiplication:\", multiplication_result)  # Output: 30\n"
      ]
    },
    {
      "cell_type": "code",
      "execution_count": 8,
      "metadata": {
        "colab": {
          "base_uri": "https://localhost:8080/"
        },
        "id": "q7eB2HNZTFoZ",
        "outputId": "881b619d-3ffc-42f4-8fd1-056ed33169cc"
      },
      "outputs": [
        {
          "name": "stdout",
          "output_type": "stream",
          "text": [
            "Division: 3.3333333333333335\n"
          ]
        }
      ],
      "source": [
        "# Division\n",
        "division_result = a / b\n",
        "print(\"Division:\", division_result)  # Output: 3.3333333333333335 (float)\n",
        "\n"
      ]
    },
    {
      "cell_type": "code",
      "execution_count": 9,
      "metadata": {
        "colab": {
          "base_uri": "https://localhost:8080/"
        },
        "id": "aClmtl0iTKFL",
        "outputId": "1bcf57ee-0011-4c6f-c15f-245a6531b121"
      },
      "outputs": [
        {
          "name": "stdout",
          "output_type": "stream",
          "text": [
            "Floor Division: 3\n"
          ]
        }
      ],
      "source": [
        "#Integer Division (Floor Division)\n",
        "floor_division_result = a // b\n",
        "print(\"Floor Division:\", floor_division_result)  # Output: 3\n",
        "\n"
      ]
    },
    {
      "cell_type": "code",
      "execution_count": 10,
      "metadata": {
        "colab": {
          "base_uri": "https://localhost:8080/"
        },
        "id": "z_X_EQ0bTPSq",
        "outputId": "5db2b7c0-2c6e-4579-9db1-6c2e8d1c1e6d"
      },
      "outputs": [
        {
          "name": "stdout",
          "output_type": "stream",
          "text": [
            "Modulus: 1\n"
          ]
        }
      ],
      "source": [
        "# Modulus (Remainder)\n",
        "modulus_result = a % b\n",
        "print(\"Modulus:\", modulus_result)  # Output: 1\n",
        "\n"
      ]
    },
    {
      "cell_type": "code",
      "execution_count": 11,
      "metadata": {
        "colab": {
          "base_uri": "https://localhost:8080/"
        },
        "id": "IQLzZrXmTSQd",
        "outputId": "1dc1e6b7-0844-4181-98b9-909289912b64"
      },
      "outputs": [
        {
          "name": "stdout",
          "output_type": "stream",
          "text": [
            "Exponentiation: 1000\n"
          ]
        }
      ],
      "source": [
        "# Exponentiation\n",
        "exponentiation_result = a ** b\n",
        "print(\"Exponentiation:\", exponentiation_result)  # Output: 1000\n"
      ]
    }
  ],
  "metadata": {
    "colab": {
      "provenance": []
    },
    "kernelspec": {
      "display_name": "Python 3",
      "name": "python3"
    },
    "language_info": {
      "codemirror_mode": {
        "name": "ipython",
        "version": 3
      },
      "file_extension": ".py",
      "mimetype": "text/x-python",
      "name": "python",
      "nbconvert_exporter": "python",
      "pygments_lexer": "ipython3",
      "version": "3.12.2"
    }
  },
  "nbformat": 4,
  "nbformat_minor": 0
}
