{
  "cells": [
    {
      "cell_type": "markdown",
      "metadata": {
        "id": "6sBh9OHd0JCz"
      },
      "source": [
        "<h1><b><u>Function in Python<u><b><h1>"
      ]
    },
    {
      "cell_type": "markdown",
      "metadata": {
        "id": "1ueKm1bd0baF"
      },
      "source": [
        "#### `Functions in Python are blocks of organized, reusable code designed to perform a specific task.` <br>\n",
        "- They provide modularity and abstraction, allowing you to break down a program into smaller, manageable pieces."
      ]
    },
    {
      "cell_type": "markdown",
      "metadata": {
        "id": "TNA-o73Tr57F"
      },
      "source": [
        "##Defining a Function:<br>\n",
        " - Define a function using the `def` keyword followed by the `function name` and parentheses `( )`. <br>\n",
        " - You can also specify parameters inside the parentheses if the function accepts input values."
      ]
    },
    {
      "cell_type": "code",
      "execution_count": 1,
      "metadata": {
        "colab": {
          "base_uri": "https://localhost:8080/"
        },
        "id": "rE9RqYFpqmwW",
        "outputId": "c4e67e38-46c7-4046-f836-b165d063c641"
      },
      "outputs": [
        {
          "name": "stdout",
          "output_type": "stream",
          "text": [
            "Hello, World!\n"
          ]
        }
      ],
      "source": [
        "#Basic function\n",
        "def greet():\n",
        "    print(\"Hello, World!\")\n",
        "\n",
        "greet()  # Output: Hello, World!\n"
      ]
    },
    {
      "cell_type": "markdown",
      "metadata": {
        "id": "7ydPXSvqrN8O"
      },
      "source": [
        "### Function with Parameters:\n",
        "\n",
        " **Parameters** are variables defined in the function declaration. <br> **Arguments** are the values passed into the function when it is called."
      ]
    },
    {
      "cell_type": "code",
      "execution_count": 2,
      "metadata": {
        "colab": {
          "base_uri": "https://localhost:8080/"
        },
        "id": "lxwc-w6erIxW",
        "outputId": "37afc5ee-5952-474a-ff03-81bf1d8628c4"
      },
      "outputs": [
        {
          "name": "stdout",
          "output_type": "stream",
          "text": [
            "Hello, Doe!\n"
          ]
        }
      ],
      "source": [
        "def greet(name):   #name is the parameter\n",
        "    print(\"Hello, \" + name + \"!\")\n",
        "\n",
        "greet(\"Doe\")  # Output: Hello, Doe!\n",
        "#'Doe' is the argument passed to the greet function."
      ]
    },
    {
      "cell_type": "markdown",
      "metadata": {
        "id": "infFpIVvs-vE"
      },
      "source": [
        "### Function with Return Value:\n",
        "- Functions can optionally return a value using the return statement. <br>\n",
        "- This allows the function to produce an output that can be used elsewhere in the code.\n"
      ]
    },
    {
      "cell_type": "code",
      "execution_count": 3,
      "metadata": {
        "colab": {
          "base_uri": "https://localhost:8080/"
        },
        "id": "GH45vSgPs3x-",
        "outputId": "7518a66f-7663-45eb-cc5d-775b144af957"
      },
      "outputs": [
        {
          "name": "stdout",
          "output_type": "stream",
          "text": [
            "8\n"
          ]
        }
      ],
      "source": [
        "def add(a, b):\n",
        "    return a + b\n",
        "\n",
        "result = add(3, 5)\n",
        "print(result)  # Output: 8\n"
      ]
    },
    {
      "cell_type": "markdown",
      "metadata": {
        "id": "4CcbsuaZtZal"
      },
      "source": [
        "### Function with Default Parameter:\n",
        "- You can provide default values for parameters in a function. <br>If no value - is provided when the function is called, the default value is used.\n"
      ]
    },
    {
      "cell_type": "code",
      "execution_count": 4,
      "metadata": {
        "colab": {
          "base_uri": "https://localhost:8080/"
        },
        "id": "_phecW6RtJSN",
        "outputId": "4bda6667-678c-4c4d-92af-1b4db95fed40"
      },
      "outputs": [
        {
          "name": "stdout",
          "output_type": "stream",
          "text": [
            "Hello, World!\n",
            "Hello, Doe!\n"
          ]
        }
      ],
      "source": [
        "def greet(name=\"World\"):\n",
        "    print(\"Hello, \" + name + \"!\")\n",
        "\n",
        "greet()         # Output: Hello, World!\n",
        "greet(\"Doe\")  # Output: Hello, Doe!\n"
      ]
    },
    {
      "cell_type": "markdown",
      "metadata": {
        "id": "TMchuIPrtslN"
      },
      "source": [
        "### Function with Variable Number of Arguments\n",
        "<p>You can define functions that accept a variable number of arguments using the *args and **kwargs syntax."
      ]
    },
    {
      "cell_type": "code",
      "execution_count": 5,
      "metadata": {
        "colab": {
          "base_uri": "https://localhost:8080/"
        },
        "id": "BC6Nd0CMtp5u",
        "outputId": "cf1acd73-46e9-4e2a-e161-208e73236710"
      },
      "outputs": [
        {
          "name": "stdout",
          "output_type": "stream",
          "text": [
            "1\n",
            "2\n",
            "3\n"
          ]
        }
      ],
      "source": [
        "def my_func(*args):\n",
        "    for arg in args:\n",
        "        print(arg)\n",
        "\n",
        "my_func(1, 2, 3)  # Output: 1 2 3\n"
      ]
    },
    {
      "cell_type": "markdown",
      "metadata": {
        "id": "1cWvJO0gulqd"
      },
      "source": [
        "### Function with Docstring:\n",
        "- It's good practice to include a docstring (documentation string) to describe what the function does. <br>\n",
        "`Docstrings are enclosed in triple quotes (\"\"\").`\n"
      ]
    },
    {
      "cell_type": "code",
      "execution_count": 6,
      "metadata": {
        "id": "oS2DsYWguFtd"
      },
      "outputs": [],
      "source": [
        "def greet(name):\n",
        "    \"\"\"\n",
        "    This function greets the user.\n",
        "    \"\"\"\n",
        "    print(\"Hello, \" + name + \"!\")\n",
        "\n"
      ]
    },
    {
      "cell_type": "markdown",
      "metadata": {
        "id": "0tXFNPO_u3ik"
      },
      "source": [
        "### Function with Keyword Arguments:\n",
        " - Defines a function `greet_with_title` that takes two parameters: `name` and `title`, with a default value of `\"Mr.\"` for the title parameter. <br>\n",
        " It prints a greeting message using the provided name and title.\n",
        "\n"
      ]
    },
    {
      "cell_type": "code",
      "execution_count": 7,
      "metadata": {
        "colab": {
          "base_uri": "https://localhost:8080/"
        },
        "id": "BJQPP1H_uoyl",
        "outputId": "7ee6f984-7f89-42c0-8f58-5f1c14c168d4"
      },
      "outputs": [
        {
          "name": "stdout",
          "output_type": "stream",
          "text": [
            "Hello, Mr. Smith!\n",
            "Hello, Mrs. Brown!\n"
          ]
        }
      ],
      "source": [
        "def greet_with_title(name, title=\"Mr.\"):\n",
        "    print(\"Hello, \" + title + \" \" + name + \"!\")\n",
        "\n",
        "greet_with_title(\"Smith\")            # Output: Hello, Mr. Smith!\n",
        "greet_with_title(\"Brown\", \"Mrs.\")    # Output: Hello, Mrs. Brown!\n"
      ]
    },
    {
      "cell_type": "markdown",
      "metadata": {
        "id": "Njyc6mMivE09"
      },
      "source": [
        "### Recursive Function (a function that calls itself):\n",
        "<ul>\n",
        "<li>The function factorial(n) takes an integer n as input.<br>\n",
        "<li>If n is equal to 0, it returns 1, as the factorial of 0 is defined as 1.<br>\n",
        "<li>Otherwise, it recursively calls the factorial function with n-1 and multiplies the result by n.<br>\n",
        "<li>The recursion continues until n reaches 0, at which point the recursion stops and the results are multiplied together as the function calls are resolved."
      ]
    },
    {
      "cell_type": "code",
      "execution_count": 8,
      "metadata": {
        "colab": {
          "base_uri": "https://localhost:8080/"
        },
        "id": "TDYILkcPvA-G",
        "outputId": "c07b845a-729f-4983-8496-a9a23d4ef361"
      },
      "outputs": [
        {
          "name": "stdout",
          "output_type": "stream",
          "text": [
            "120\n"
          ]
        }
      ],
      "source": [
        "def factorial(n):\n",
        "    if n == 0:\n",
        "        return 1\n",
        "    else:\n",
        "        return n * factorial(n-1)\n",
        "\n",
        "print(factorial(5))  # Output: 120 (5*4*3*2*1)\n"
      ]
    },
    {
      "cell_type": "markdown",
      "metadata": {
        "id": "3N7obsaszWFq"
      },
      "source": [
        "This line calls the factorial function with the argument 5. The function proceeds as follows:\n",
        "\n",
        "- factorial(5) calls factorial(4) * 5.\n",
        "- factorial(4) calls factorial(3) * 4.\n",
        "- factorial(3) calls factorial(2) * 3.\n",
        "- factorial(2) calls factorial(1) * 2.\n",
        "- factorial(1) calls factorial(0) * 1.\n",
        "- factorial(0) returns 1.\n",
        "#### Now, the function calls are resolved:\n",
        "\n",
        "- factorial(0) returns 1.\n",
        "- factorial(1) returns 1 * 1 = 1.\n",
        "- factorial(2) returns 1 * 2 = 2.\n",
        "- factorial(3) returns 2 * 3 = 6.\n",
        "- factorial(4) returns 6 * 4 = 24.\n",
        "- factorial(5) returns 24 * 5 = 120. \n",
        "<br>\n",
        "`So, print(factorial(5)) outputs 120, which is the factorial of 5.`"
      ]
    }
  ],
  "metadata": {
    "colab": {
      "provenance": []
    },
    "kernelspec": {
      "display_name": "Python 3",
      "name": "python3"
    },
    "language_info": {
      "codemirror_mode": {
        "name": "ipython",
        "version": 3
      },
      "file_extension": ".py",
      "mimetype": "text/x-python",
      "name": "python",
      "nbconvert_exporter": "python",
      "pygments_lexer": "ipython3",
      "version": "3.12.2"
    }
  },
  "nbformat": 4,
  "nbformat_minor": 0
}
