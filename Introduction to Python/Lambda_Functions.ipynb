{
  "cells": [
    {
      "cell_type": "markdown",
      "metadata": {
        "id": "jlLDFTZF61k8"
      },
      "source": [
        "<h1><b><u>Lambda Functions in Python</u></b></h1>"
      ]
    },
    {
      "cell_type": "markdown",
      "metadata": {
        "id": "zVTavt7a7Cco"
      },
      "source": [
        "`Lambda functions`, also known as anonymous functions, are small, mini-functions defined using the `lambda` keyword in Python. <br>\n",
        "- Unlike regular functions defined with the def keyword, lambda functions are typically short and concise, often used for simple tasks where writing a full function definition would be unnecessary."
      ]
    },
    {
      "cell_type": "markdown",
      "metadata": {
        "id": "I7-QhOak72QU"
      },
      "source": [
        "#### `Example1`"
      ]
    },
    {
      "cell_type": "code",
      "execution_count": 1,
      "metadata": {
        "id": "nspzXLI-7xVr"
      },
      "outputs": [],
      "source": [
        "# Regular function definition\n",
        "def add(x, y):\n",
        "    return x + y\n",
        "\n"
      ]
    },
    {
      "cell_type": "code",
      "execution_count": 2,
      "metadata": {
        "colab": {
          "base_uri": "https://localhost:8080/"
        },
        "id": "4vZiGUDl8H_9",
        "outputId": "7791e9fc-8bf8-4567-9c89-b9b2cbe27076"
      },
      "outputs": [
        {
          "name": "stdout",
          "output_type": "stream",
          "text": [
            "8\n"
          ]
        }
      ],
      "source": [
        "# Equivalent lambda function\n",
        "add_lambda = lambda x, y: x + y\n",
        "\n",
        "# Using the lambda function\n",
        "result = add_lambda(3, 5)\n",
        "print(result)  # Output: 8\n"
      ]
    },
    {
      "cell_type": "markdown",
      "metadata": {
        "id": "jLrDLsPM8S8G"
      },
      "source": [
        "- other examples to illustrate the usage of lambda functions: <br>\n"
      ]
    },
    {
      "cell_type": "markdown",
      "metadata": {
        "id": "O7iDD7Mr9IxM"
      },
      "source": [
        "1. **Simple Arithmetic Operation**:\n",
        "   - In this example, a lambda function `add` is defined to add two numbers `x` and `y`.\n",
        "   - `lambda x, y: x + y` creates an anonymous function that takes two arguments `x` and `y` and returns their sum.\n",
        "   - The lambda function is then called with arguments `3` and `7`, resulting in `10` as the output."
      ]
    },
    {
      "cell_type": "code",
      "execution_count": 3,
      "metadata": {
        "colab": {
          "base_uri": "https://localhost:8080/"
        },
        "id": "_xU0Ttb19Qn8",
        "outputId": "17666139-9def-4cc4-83f9-20d524b0afbd"
      },
      "outputs": [
        {
          "name": "stdout",
          "output_type": "stream",
          "text": [
            "10\n"
          ]
        }
      ],
      "source": [
        "add = lambda x, y: x + y\n",
        "print(add(3, 7))  # Output: 10\n"
      ]
    },
    {
      "cell_type": "markdown",
      "metadata": {
        "id": "vzI7VPGx9fnD"
      },
      "source": [
        "2. **Sorting a List of Tuples by the Second Element**:\n",
        "   - We have a list of tuples called `pairs`, where each tuple contains a number and a fruit name.\n",
        "   - The `sorted()` function is used to sort the `pairs` list based on the second element of each tuple (i.e., the fruit name).\n",
        "   - The `key` parameter of `sorted()` specifies a function that extracts the sorting key from each element. Here, a lambda function is used to extract the second element of each tuple (`pair[1]`).\n",
        "   - The sorted list `sorted_pairs` is printed, showing that the list is sorted alphabetically by fruit name."
      ]
    },
    {
      "cell_type": "code",
      "execution_count": 4,
      "metadata": {
        "colab": {
          "base_uri": "https://localhost:8080/"
        },
        "id": "e9Ch1BRy8t2N",
        "outputId": "b72ca59b-091b-4b7e-c64e-3f94aaba06db"
      },
      "outputs": [
        {
          "name": "stdout",
          "output_type": "stream",
          "text": [
            "[(1, 'apple'), (3, 'banana'), (2, 'orange')]\n"
          ]
        }
      ],
      "source": [
        "pairs = [(1, 'apple'), (3, 'banana'), (2, 'orange')]\n",
        "sorted_pairs = sorted(pairs, key=lambda pair: pair[1])\n",
        "print(sorted_pairs)  # Output: [(1, 'apple'), (3, 'banana'), (2, 'orange')]\n"
      ]
    },
    {
      "cell_type": "markdown",
      "metadata": {
        "id": "D1B3m_5w9x_D"
      },
      "source": [
        "3. **Filtering Even Numbers from a List**:\n",
        "   - We have a list of numbers called `numbers`.\n",
        "   - The `filter()` function is used to filter out even numbers from the `numbers` list.\n",
        "   - The lambda function `lambda x: x % 2 == 0` is applied to each element of the `numbers` list to check if it's even.\n",
        "   - `filter()` returns an iterator containing only the elements for which the lambda function returns `True`.\n",
        "   - The iterator is converted to a list and printed, showing only the even numbers `[2, 4, 6, 8, 10]`."
      ]
    },
    {
      "cell_type": "code",
      "execution_count": 5,
      "metadata": {
        "colab": {
          "base_uri": "https://localhost:8080/"
        },
        "id": "x608eD6B9tf8",
        "outputId": "4fecd86b-f31a-436b-8fe5-6858497f556e"
      },
      "outputs": [
        {
          "name": "stdout",
          "output_type": "stream",
          "text": [
            "[2, 4, 6, 8, 10]\n"
          ]
        }
      ],
      "source": [
        "numbers = [1, 2, 3, 4, 5, 6, 7, 8, 9, 10]\n",
        "even_numbers = filter(lambda x: x % 2 == 0, numbers)\n",
        "print(list(even_numbers))  # Output: [2, 4, 6, 8, 10]\n"
      ]
    },
    {
      "cell_type": "markdown",
      "metadata": {
        "id": "G-umxXp_-Hxr"
      },
      "source": [
        "4. **Mapping a Function to a List**:\n",
        "   - We have a list of numbers called `numbers`.\n",
        "   - The `map()` function is used to apply a function to each element of the `numbers` list.\n",
        "   - The lambda function `lambda x: x**2` is applied to each element of the `numbers` list to square it.\n",
        "   - `map()` returns an iterator containing the squared values of the elements in the `numbers` list.\n",
        "   - The iterator is converted to a list and printed, showing the squared numbers `[1, 4, 9, 16, 25]`."
      ]
    },
    {
      "cell_type": "code",
      "execution_count": 6,
      "metadata": {
        "colab": {
          "base_uri": "https://localhost:8080/"
        },
        "id": "u8wEqEDV-BdT",
        "outputId": "7736a666-a92a-474c-fc68-b56957a8fa08"
      },
      "outputs": [
        {
          "name": "stdout",
          "output_type": "stream",
          "text": [
            "[1, 4, 9, 16, 25]\n"
          ]
        }
      ],
      "source": [
        "numbers = [1, 2, 3, 4, 5]\n",
        "squared_numbers = map(lambda x: x**2, numbers)\n",
        "print(list(squared_numbers))  # Output: [1, 4, 9, 16, 25]\n"
      ]
    },
    {
      "cell_type": "markdown",
      "metadata": {
        "id": "CacbrCdk9E8d"
      },
      "source": [
        "\n",
        "\n",
        "- Lambda functions provide a concise way to perform simple tasks like arithmetic, sorting, filtering, and mapping. <br>\n",
        "- They are especially useful when you need a quick function for a specific task and don't want to define a separate named function. Lambda functions are often used in conjunction with higher-order functions like `map()`, `filter()`, and `sorted()` to process data efficiently."
      ]
    }
  ],
  "metadata": {
    "colab": {
      "provenance": []
    },
    "kernelspec": {
      "display_name": "Python 3",
      "name": "python3"
    },
    "language_info": {
      "codemirror_mode": {
        "name": "ipython",
        "version": 3
      },
      "file_extension": ".py",
      "mimetype": "text/x-python",
      "name": "python",
      "nbconvert_exporter": "python",
      "pygments_lexer": "ipython3",
      "version": "3.12.2"
    }
  },
  "nbformat": 4,
  "nbformat_minor": 0
}
