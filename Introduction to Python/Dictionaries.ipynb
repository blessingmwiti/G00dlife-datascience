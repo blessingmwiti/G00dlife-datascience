{
  "cells": [
    {
      "cell_type": "markdown",
      "metadata": {
        "id": "eQbtsUXSbxyN"
      },
      "source": [
        "<h1><b><u>Dictionaries in Python</u></b></h1>\n"
      ]
    },
    {
      "cell_type": "markdown",
      "metadata": {
        "id": "uDAijxute-Wv"
      },
      "source": [
        "- Dictionaries in Python are unordered collections of key-value pairs.` <br>\n",
        "<ul>\n",
        "<li>They provide a way to store and retrieve data efficiently using keys rather than indices. </li>\n",
        "<li>Each key in a dictionary must be unique, but the values can be duplicated. <li>Dictionaries are mutable, meaning you can modify their contents after creation."
      ]
    },
    {
      "cell_type": "markdown",
      "metadata": {
        "id": "YtB7bTWCfknH"
      },
      "source": [
        "` You can declare and initialize a dictionary using curly braces {} and specifying key-value pairs separated by colons : `"
      ]
    },
    {
      "cell_type": "code",
      "execution_count": 1,
      "metadata": {
        "colab": {
          "base_uri": "https://localhost:8080/"
        },
        "id": "ym0dydH8f3ZO",
        "outputId": "2c805c07-9e60-4b44-9cb2-46fc7f0b26e1"
      },
      "outputs": [
        {
          "data": {
            "text/plain": [
              "{'name': 'John', 'age': 30, 'city': 'New York'}"
            ]
          },
          "execution_count": 1,
          "metadata": {},
          "output_type": "execute_result"
        }
      ],
      "source": [
        "# Declaration and initialization\n",
        "my_dict = {'name': 'John', 'age': 30, 'city': 'New York'}\n",
        "my_dict\n"
      ]
    },
    {
      "cell_type": "markdown",
      "metadata": {
        "id": "BL-dnVDogIcH"
      },
      "source": [
        "## Accessing Elements in Dictionaries:\n",
        "` You can access the value associated with a particular key in a dictionary using square brackets [].`"
      ]
    },
    {
      "cell_type": "code",
      "execution_count": 2,
      "metadata": {
        "colab": {
          "base_uri": "https://localhost:8080/"
        },
        "id": "--Ze61B7gRM3",
        "outputId": "bda9d50a-5a6c-4c30-c8a3-dbc79355d8cd"
      },
      "outputs": [
        {
          "name": "stdout",
          "output_type": "stream",
          "text": [
            "John\n",
            "30\n"
          ]
        }
      ],
      "source": [
        "# Accessing values\n",
        "print(my_dict['name'])  # Output: John\n",
        "print(my_dict['age'])   # Output: 30\n"
      ]
    },
    {
      "cell_type": "markdown",
      "metadata": {
        "id": "-VsVZJSogew-"
      },
      "source": [
        "## Modifying Elements in Dictionaries:\n",
        "You can modify the value associated with a particular key or add new key-value pairs to a dictionary."
      ]
    },
    {
      "cell_type": "code",
      "execution_count": 3,
      "metadata": {
        "colab": {
          "base_uri": "https://localhost:8080/"
        },
        "id": "8JdLbnVDglc-",
        "outputId": "b5f1a0cb-bb38-4e5e-9716-4120b120bff9"
      },
      "outputs": [
        {
          "name": "stdout",
          "output_type": "stream",
          "text": [
            "{'name': 'John', 'age': 35, 'city': 'New York'}\n"
          ]
        }
      ],
      "source": [
        "# Modifying values\n",
        "my_dict['age'] = 35\n",
        "print(my_dict)  # Output: {'name': 'John', 'age': 35, 'city': 'New York'}\n",
        "\n"
      ]
    },
    {
      "cell_type": "code",
      "execution_count": 4,
      "metadata": {
        "colab": {
          "base_uri": "https://localhost:8080/"
        },
        "id": "-vhWiATRgvZQ",
        "outputId": "a6955fcd-5638-4016-fa37-93f48cc13ac0"
      },
      "outputs": [
        {
          "name": "stdout",
          "output_type": "stream",
          "text": [
            "{'name': 'John', 'age': 35, 'city': 'New York', 'job': 'Engineer'}\n"
          ]
        }
      ],
      "source": [
        "# Adding new key-value pair\n",
        "my_dict['job'] = 'Engineer'\n",
        "print(my_dict)  # Output: {'name': 'John', 'age': 35, 'city': 'New York', 'job': 'Engineer'}\n"
      ]
    },
    {
      "cell_type": "markdown",
      "metadata": {
        "id": "i7OA5FzQg0xe"
      },
      "source": [
        "`Basic Operations:`\n",
        "Dictionaries support various operations such as length calculation, key existence check, and removal of key-value pairs."
      ]
    },
    {
      "cell_type": "code",
      "execution_count": 5,
      "metadata": {
        "colab": {
          "base_uri": "https://localhost:8080/"
        },
        "id": "A5WoW3Vug45X",
        "outputId": "a594b0c8-8414-4f45-a473-33723c3b83cb"
      },
      "outputs": [
        {
          "name": "stdout",
          "output_type": "stream",
          "text": [
            "4\n",
            "True\n",
            "{'name': 'John', 'age': 35, 'job': 'Engineer'}\n"
          ]
        }
      ],
      "source": [
        "# Length calculation\n",
        "print(len(my_dict))  # Output: 4\n",
        "\n",
        "# Check if key exists\n",
        "print('name' in my_dict)  # Output: True\n",
        "\n",
        "# Removing a key-value pair\n",
        "del my_dict['city']\n",
        "print(my_dict)  # Output: {'name': 'John', 'age': 35, 'job': 'Engineer'}\n"
      ]
    },
    {
      "cell_type": "markdown",
      "metadata": {
        "id": "zvHkpUhIhF9X"
      },
      "source": [
        "`Example:` <br>\n",
        "Let's see a simple example demonstrating the usage of dictionaries:"
      ]
    },
    {
      "cell_type": "code",
      "execution_count": 6,
      "metadata": {
        "id": "0huXPXidhMOJ"
      },
      "outputs": [],
      "source": [
        "# Declaration and initialization\n",
        "student = {\n",
        "    'name': 'Alice',\n",
        "    'age': 20,\n",
        "    'major': 'Computer Science',\n",
        "    'GPA': 3.8\n",
        "}\n"
      ]
    },
    {
      "cell_type": "code",
      "execution_count": 7,
      "metadata": {
        "colab": {
          "base_uri": "https://localhost:8080/"
        },
        "id": "edmRQB_ohqmc",
        "outputId": "b49c6333-88a8-4bfe-bc96-47b20581ffa0"
      },
      "outputs": [
        {
          "name": "stdout",
          "output_type": "stream",
          "text": [
            "Name: Alice\n",
            "Age: 20\n",
            "Major: Computer Science\n",
            "GPA: 3.8\n"
          ]
        }
      ],
      "source": [
        "# Accessing values\n",
        "print(\"Name:\", student['name'])   # Output: Alice\n",
        "print(\"Age:\", student['age'])     # Output: 20\n",
        "print(\"Major:\", student['major']) # Output: Computer Science\n",
        "print(\"GPA:\", student['GPA'])     # Output: 3.8\n"
      ]
    },
    {
      "cell_type": "code",
      "execution_count": 8,
      "metadata": {
        "colab": {
          "base_uri": "https://localhost:8080/"
        },
        "id": "v_yHgismhxTs",
        "outputId": "8db51380-a172-4dd0-a999-483a52a5ae27"
      },
      "outputs": [
        {
          "name": "stdout",
          "output_type": "stream",
          "text": [
            "Updated GPA: 3.9\n"
          ]
        }
      ],
      "source": [
        "# Modifying values\n",
        "student['GPA'] = 3.9\n",
        "print(\"Updated GPA:\", student['GPA'])  # Output: 3.9"
      ]
    },
    {
      "cell_type": "code",
      "execution_count": 9,
      "metadata": {
        "colab": {
          "base_uri": "https://localhost:8080/"
        },
        "id": "s7eHDptQh0Os",
        "outputId": "da6a721d-2ad0-4580-d2b5-56ca3f64dd2b"
      },
      "outputs": [
        {
          "name": "stdout",
          "output_type": "stream",
          "text": [
            "Year: Junior\n"
          ]
        }
      ],
      "source": [
        "# Adding new key-value pair\n",
        "student['year'] = 'Junior'\n",
        "print(\"Year:\", student['year'])  # Output: Junior\n"
      ]
    },
    {
      "cell_type": "code",
      "execution_count": 10,
      "metadata": {
        "colab": {
          "base_uri": "https://localhost:8080/"
        },
        "id": "4a45vjach2k9",
        "outputId": "0339e972-6ac0-44e5-e139-886012d1f18f"
      },
      "outputs": [
        {
          "name": "stdout",
          "output_type": "stream",
          "text": [
            "{'name': 'Alice', 'age': 20, 'GPA': 3.9, 'year': 'Junior'}\n"
          ]
        }
      ],
      "source": [
        "# Removing a key-value pair\n",
        "del student['major']\n",
        "print(student)  # Output: {'name': 'Alice', 'age': 20, 'GPA': 3.9, 'year': 'Junior'}\n"
      ]
    },
    {
      "cell_type": "markdown",
      "metadata": {
        "id": "BbsNjJi7iAS8"
      },
      "source": [
        "- In this example, we created a dictionary representing information about a student.\n",
        "- We accessed values, modified them, added new key-value pairs, and removed a key-value pair from the dictionary.\n",
        "- Dictionaries are versatile and can be used to represent structured data in Python effectively.\n",
        "\n",
        "\n",
        "\n"
      ]
    }
  ],
  "metadata": {
    "colab": {
      "provenance": []
    },
    "kernelspec": {
      "display_name": "Python 3",
      "name": "python3"
    },
    "language_info": {
      "codemirror_mode": {
        "name": "ipython",
        "version": 3
      },
      "file_extension": ".py",
      "mimetype": "text/x-python",
      "name": "python",
      "nbconvert_exporter": "python",
      "pygments_lexer": "ipython3",
      "version": "3.12.2"
    }
  },
  "nbformat": 4,
  "nbformat_minor": 0
}
