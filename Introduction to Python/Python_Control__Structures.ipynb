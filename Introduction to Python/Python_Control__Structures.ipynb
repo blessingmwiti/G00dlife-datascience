{
  "cells": [
    {
      "cell_type": "markdown",
      "metadata": {
        "id": "MOga_gy_-QQe"
      },
      "source": [
        "<h1><u><b>Conditional Statements</b></u></h1>"
      ]
    },
    {
      "cell_type": "markdown",
      "metadata": {
        "id": "uKTVsTZj-X23"
      },
      "source": [
        "#### `Conditional statements allow you to run different blocks of code based on specified conditions.`\n",
        "## <u>if, elif, else</u><br>\n"
      ]
    },
    {
      "cell_type": "code",
      "execution_count": 8,
      "metadata": {
        "colab": {
          "base_uri": "https://localhost:8080/"
        },
        "id": "O01Bt1Zj--hx",
        "outputId": "ffc462ff-a02f-4f20-a7a8-86ef8955db3a"
      },
      "outputs": [
        {
          "name": "stdout",
          "output_type": "stream",
          "text": [
            "x is positive\n"
          ]
        }
      ],
      "source": [
        "#example\n",
        "x = 10\n",
        "\n",
        "if x > 0:\n",
        "    print(\"x is positive\")\n",
        "elif x == 0:\n",
        "    print(\"x is zero\")\n",
        "else:\n",
        "    print(\"x is negative\")\n"
      ]
    },
    {
      "cell_type": "markdown",
      "metadata": {
        "id": "d-3LnS8__UbG"
      },
      "source": [
        "\n",
        "1. **Variable Assignment:**\n",
        "   - `x = 10`: This line assigns the value `10` to the variable `x`. Here, `x` is assigned an integer value.\n",
        "\n",
        "2. **Conditional Statement (if-elif-else):**\n",
        "   - The `if` statement checks whether the value of `x` is greater than `0`. If the condition is `True`, it runs the code block indented under the `if` statement.\n",
        "   - The `elif` (short for \"else if\") statement allows you to check additional conditions if the preceding `if` condition is `False`. Here, it checks if `x` is equal to `0`.\n",
        "   - The `else` statement runs its code block if none of the previous conditions (in the `if` and `elif` statements) are `True`.\n",
        "\n",
        "3. **Code Blocks:**\n",
        "   - The code blocks under each conditional statement (i.e., `if`, `elif`, `else`) are indented. In Python, indentation is crucial as it denotes the beginning and end of code blocks.\n",
        "   - Only one of the code blocks (either `if`, `elif`, or `else`) will be executed, depending on the condition's evaluation.\n",
        "\n",
        "4. **Print Statements:**\n",
        "   - Inside each code block, there is a `print()` statement that outputs a message based on the condition that evaluates to `True`.\n",
        "   - If `x` is greater than `0`, it prints \"x is positive\".\n",
        "   - If `x` is equal to `0`, it prints \"x is zero\".\n",
        "   - If neither condition is met (i.e., `x` is negative), it prints \"x is negative\".\n",
        "\n",
        "5. **Flow:**\n",
        "   - In this specific example, since `x` is `10`, the condition `x > 0` evaluates to `True`. Therefore, the code block under the `if` statement (`print(\"x is positive\")`) is performed, and the output will be \"x is positive\".\n"
      ]
    },
    {
      "cell_type": "markdown",
      "metadata": {
        "id": "YflKA5DLAbe2"
      },
      "source": [
        "## Loops"
      ]
    },
    {
      "cell_type": "markdown",
      "metadata": {
        "id": "rDqcson4Ag30"
      },
      "source": [
        "`for and while loops`<br>\n",
        "Loops are used to iterate over sequences or perform repetitive tasks until a certain condition is met.\n",
        "\n",
        "## `For loops`"
      ]
    },
    {
      "cell_type": "code",
      "execution_count": 9,
      "metadata": {
        "colab": {
          "base_uri": "https://localhost:8080/"
        },
        "id": "PrBp4nxdA10T",
        "outputId": "b2567a01-e21c-4181-ddd8-af25517eeb28"
      },
      "outputs": [
        {
          "name": "stdout",
          "output_type": "stream",
          "text": [
            "apple\n",
            "banana\n",
            "cherry\n",
            "pineapple\n"
          ]
        }
      ],
      "source": [
        "fruits = [\"apple\", \"banana\", \"cherry\",\"pineapple\"]\n",
        "for fruit in fruits:\n",
        "    print(fruit)\n"
      ]
    },
    {
      "cell_type": "markdown",
      "metadata": {
        "id": "9SH1p7WwGzCn"
      },
      "source": [
        "<p>The for loop iterates over each element in the fruits list.<br>\n",
        "<ul>\n",
        "<li>Fruit is a temporary variable that takes on each value in the fruits list in each iteration.<br>\n",
        "<li>During each iteration, the print() function is called to output the value of fruit.\n",
        "<li>After iterating over all elements in the list, the loop exits.</p>"
      ]
    },
    {
      "cell_type": "markdown",
      "metadata": {
        "id": "PlFuW8hoIEKh"
      },
      "source": [
        "## `While Loop`"
      ]
    },
    {
      "cell_type": "code",
      "execution_count": 10,
      "metadata": {
        "colab": {
          "base_uri": "https://localhost:8080/"
        },
        "id": "SGbVpZYWIO_X",
        "outputId": "4b5465da-9492-407d-b9ff-59192a73ea87"
      },
      "outputs": [
        {
          "name": "stdout",
          "output_type": "stream",
          "text": [
            "0\n",
            "1\n",
            "2\n",
            "3\n",
            "4\n"
          ]
        }
      ],
      "source": [
        "i = 0\n",
        "while i < 5:\n",
        "    print(i)\n",
        "    i += 1\n"
      ]
    },
    {
      "cell_type": "markdown",
      "metadata": {
        "id": "90oAw-gRIU81"
      },
      "source": [
        "<p>The while loop repeats a block of code as long as a specified condition is True.\n",
        "<ul>\n",
        " <li>In this, the loop initializes a variable i to 0.\n",
        " <li>The loop condition i < 5 checks if the value of i is less than 5.\n",
        " <li>Inside the loop, the value of i is printed, and then i is incremented by 1 (i += 1).\n",
        "<li>The loop continues to execute until the condition i < 5 becomes False, at which point the loop terminates.</p>"
      ]
    },
    {
      "cell_type": "markdown",
      "metadata": {
        "id": "sZIKj3ZlKd2M"
      },
      "source": [
        "## <b>Break and Continue Statements</b>\n",
        "\n",
        "Break: Terminates the loop prematurely.<br>\n",
        "Continue: Skips the rest of the current iteration and moves to the next one"
      ]
    },
    {
      "cell_type": "markdown",
      "metadata": {
        "id": "X7Oo0tu9K8JF"
      },
      "source": [
        "#### `For Loop with Break Statement`\n",
        "\n",
        "- The for loop iterates over the numbers from 0 to 4 (inclusive) using the range() function.<br>\n",
        "- During each iteration, the value of i is checked.<br>\n",
        "- If the value of i is equal to 3, the break statement is executed, which terminates the loop prematurely.<br>\n",
        "- As a result, the loop stops iterating when i equals 3."
      ]
    },
    {
      "cell_type": "code",
      "execution_count": 12,
      "metadata": {},
      "outputs": [
        {
          "name": "stdout",
          "output_type": "stream",
          "text": [
            "0\n",
            "1\n",
            "2\n"
          ]
        }
      ],
      "source": [
        "#sample\n",
        "for i in range(5):\n",
        "    if i == 3:\n",
        "        break     \n",
        "    print(i)\n",
        "\n"
      ]
    },
    {
      "cell_type": "markdown",
      "metadata": {
        "id": "eSkYXx-MLdjI"
      },
      "source": [
        "##### `For Loop with Continue Statement`\n",
        "\n",
        "- Similar to before, the for loop iterates over the numbers from 0 to 4.<br>\n",
        "- During each iteration, the value of i is checked.<br>\n",
        "- If the value of i is equal to 2, the continue statement is performed, which skips the remaining code in the loop for that iteration and proceeds to the next iteration.<br>\n",
        "- As a result, the value 2 is skipped, and the loop continues with the next iteration."
      ]
    },
    {
      "cell_type": "code",
      "execution_count": 14,
      "metadata": {},
      "outputs": [
        {
          "name": "stdout",
          "output_type": "stream",
          "text": [
            "0\n",
            "1\n",
            "3\n",
            "4\n"
          ]
        }
      ],
      "source": [
        "for i in range(5):\n",
        "    if i == 2:\n",
        "        continue\n",
        "    print(i)"
      ]
    }
  ],
  "metadata": {
    "colab": {
      "provenance": []
    },
    "kernelspec": {
      "display_name": "Python 3",
      "name": "python3"
    },
    "language_info": {
      "codemirror_mode": {
        "name": "ipython",
        "version": 3
      },
      "file_extension": ".py",
      "mimetype": "text/x-python",
      "name": "python",
      "nbconvert_exporter": "python",
      "pygments_lexer": "ipython3",
      "version": "3.12.2"
    }
  },
  "nbformat": 4,
  "nbformat_minor": 0
}
