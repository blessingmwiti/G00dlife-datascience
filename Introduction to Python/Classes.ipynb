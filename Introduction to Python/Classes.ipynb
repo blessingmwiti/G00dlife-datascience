{
  "nbformat": 4,
  "nbformat_minor": 0,
  "metadata": {
    "colab": {
      "provenance": [],
      "gpuType": "T4"
    },
    "kernelspec": {
      "name": "python3",
      "display_name": "Python 3"
    },
    "language_info": {
      "name": "python"
    },
    "accelerator": "GPU"
  },
  "cells": [
    {
      "cell_type": "markdown",
      "source": [
        "<h1><u><b>Classes in Python</b></u></h1>"
      ],
      "metadata": {
        "id": "nfMMlLeL2bGd"
      }
    },
    {
      "cell_type": "markdown",
      "source": [
        "- In Python, classes are used to create new types of `objects` with specific `attributes` (properties) and `methods` (functions).\n",
        "- They provide a way to structure and organize code in an object-oriented manner. Here's a basic overview of classes in Python"
      ],
      "metadata": {
        "id": "GQvrayi12tQv"
      }
    },
    {
      "cell_type": "markdown",
      "source": [
        "*** <p>  Think of a class like a blueprint or a template for creating objects. Just like how a blueprint for a house defines its structure and features, a class in Python defines the structure and behavior of objects.  </p> ***\n",
        "\n",
        "Here's a breakdown:\n",
        "\n",
        "`Blueprint for Objects`: A class defines what an object will be like. It specifies what attributes (properties) and methods (functions) the object will have.\n",
        "\n",
        "`Attributes (Properties)`: Attributes are like characteristics or features of an object. For example, if we're talking about a Car class, attributes could be color, make, model, etc. Each object created from the class will have its own set of these attributes.\n",
        "\n",
        "`Methods (Functions)`: Methods are like actions that objects can perform. They define what operations an object can do. Continuing with the Car class example, methods could be start(), drive(), stop(), etc.\n",
        "\n",
        "`Organization`: Classes help organize code by grouping related attributes and methods together. For example, all the attributes and methods related to a Car are defined within the Car class.\n",
        "\n",
        "`Creating Objects`: Once a class is defined, you can create objects (also called instances) of that class. Each object created from the class will have its own unique set of attributes, but they will all share the same methods defined by the class."
      ],
      "metadata": {
        "id": "gjdppHt02u5v"
      }
    },
    {
      "cell_type": "markdown",
      "source": [
        "### `Defining a Class`<br>\n",
        "- You define a class using the **class** keyword followed by the class name. Inside the class definition, you can define **attributes** and **methods**."
      ],
      "metadata": {
        "id": "tSF3oEp_4sE2"
      }
    },
    {
      "cell_type": "code",
      "source": [
        "class MyClass:\n",
        "    def __init__(self, attribute1, attribute2):\n",
        "        self.attribute1 = attribute1\n",
        "        self.attribute2 = attribute2\n",
        "\n",
        "    def method1(self):\n",
        "        # method implementation\n",
        "        pass\n",
        "\n",
        "    def method2(self):\n",
        "        # method implementation\n",
        "        pass\n",
        "\n"
      ],
      "metadata": {
        "id": "ubzHk1br3TTY"
      },
      "execution_count": 31,
      "outputs": []
    },
    {
      "cell_type": "markdown",
      "source": [
        "`Constructor Method (__init__)` <br>\n",
        "The __init__ method is a special method called the constructor. It is run automatically when a new instance of the class is created. It initializes the object's attributes."
      ],
      "metadata": {
        "id": "dKT7jgB1rYFz"
      }
    },
    {
      "cell_type": "markdown",
      "source": [
        "### `Attributes:` <br>\n",
        "Attributes are variables that belong to an object. They represent the state of the object."
      ],
      "metadata": {
        "id": "d4PECGkTt_EK"
      }
    },
    {
      "cell_type": "code",
      "source": [
        "class MyClass:\n",
        "    def __init__(self, attribute1, attribute2):\n",
        "        self.attribute1 = attribute1\n",
        "        self.attribute2 = attribute2\n"
      ],
      "metadata": {
        "id": "Ct89vK3xDpPL"
      },
      "execution_count": 32,
      "outputs": []
    },
    {
      "cell_type": "markdown",
      "source": [
        "`Methods:`  <b r>\n",
        "Methods are functions defined inside a class. They can access and modify the object's attributes."
      ],
      "metadata": {
        "id": "sKFqYL8ku5cQ"
      }
    },
    {
      "cell_type": "code",
      "source": [
        "class MyClass:\n",
        "    def method1(self):\n",
        "        print(\"Method 1 called\")\n",
        "\n",
        "    def method2(self, x):\n",
        "        return x * 2\n",
        "\n",
        "# Create an instance of MyClass\n",
        "obj = MyClass()\n",
        "\n",
        "# Accessing attributes and calling methods\n",
        "# print(obj.attribute1)  # This line will raise an AttributeError because attribute1 is not defined\n",
        "obj.method1()  # This line will print \"Method 1 called\"\n"
      ],
      "metadata": {
        "colab": {
          "base_uri": "https://localhost:8080/"
        },
        "id": "roSHIRevzLVa",
        "outputId": "5e048885-1853-4fe7-a67d-ae368bcd70f1"
      },
      "execution_count": 33,
      "outputs": [
        {
          "output_type": "stream",
          "name": "stdout",
          "text": [
            "Method 1 called\n"
          ]
        }
      ]
    },
    {
      "cell_type": "code",
      "source": [
        "class MyClass:\n",
        "    def __init__(self, attribute1, attribute2):\n",
        "        self.attribute1 = attribute1\n",
        "        self.attribute2 = attribute2\n",
        "\n",
        "obj = MyClass(\"value1\", \"value2\")\n",
        "\n",
        "print(obj.attribute1)  # Output: value1\n"
      ],
      "metadata": {
        "colab": {
          "base_uri": "https://localhost:8080/"
        },
        "id": "o0aATsx_wL9Q",
        "outputId": "628143a7-b6bb-438a-cca3-11479a572669"
      },
      "execution_count": 34,
      "outputs": [
        {
          "output_type": "stream",
          "name": "stdout",
          "text": [
            "value1\n"
          ]
        }
      ]
    },
    {
      "cell_type": "markdown",
      "source": [
        "## `Encapsulation:` <br>\n",
        "Encapsulation is the concept of restricting access to certain parts of an object and only exposing the necessary parts. This is often achieved by using private attributes and methods."
      ],
      "metadata": {
        "id": "5fhHXft9zj9J"
      }
    },
    {
      "cell_type": "code",
      "source": [
        "class MyClass:\n",
        "    def __init__(self):\n",
        "        self.__private_attribute = \"private\"\n",
        "\n",
        "    def __private_method(self):\n",
        "        pass\n"
      ],
      "metadata": {
        "id": "zGN4cbAJzhRK"
      },
      "execution_count": 35,
      "outputs": []
    },
    {
      "cell_type": "markdown",
      "source": [
        "###`Inheritance:` <br>\n",
        "- Classes can inherit attributes and methods from other classes.\n",
        "- The class being inherited from is called the parent or superclass, and the class inheriting is called the child or subclass."
      ],
      "metadata": {
        "id": "10x6-ldb0E1J"
      }
    },
    {
      "cell_type": "code",
      "source": [
        "class ParentClass:\n",
        "    def __init__(self, attribute1, attribute2):\n",
        "        self.attribute1 = attribute1\n",
        "        self.attribute2 = attribute2\n",
        "\n",
        "class ChildClass(ParentClass):\n",
        "    def __init__(self, attribute1, attribute2, attribute3):\n",
        "        super().__init__(attribute1, attribute2)\n",
        "        self.attribute3 = attribute3\n",
        "\n",
        "# Example usage\n",
        "child_obj = ChildClass(\"value1\", \"value2\", \"value3\")\n",
        "print(child_obj.attribute1)  # Output: value1\n",
        "print(child_obj.attribute2)  # Output: value2\n",
        "print(child_obj.attribute3)  # Output: value3\n"
      ],
      "metadata": {
        "colab": {
          "base_uri": "https://localhost:8080/"
        },
        "id": "K-reJLTr0C0x",
        "outputId": "07d2ab4c-d760-48cf-c92b-c5c4156ea2e8"
      },
      "execution_count": 36,
      "outputs": [
        {
          "output_type": "stream",
          "name": "stdout",
          "text": [
            "value1\n",
            "value2\n",
            "value3\n"
          ]
        }
      ]
    },
    {
      "cell_type": "markdown",
      "source": [
        "`In this example:` <br>\n",
        "\n",
        "- ParentClass is defined with attributes attribute1 and attribute2.\n",
        "- ChildClass subclasses from ParentClass and adds an additional attribute attribute3.\n",
        "- The super().__init__(attribute1, attribute2) call in the __init__ method of - ChildClass invokes the constructor of the parent class (ParentClass) to initialize its attributes.\n",
        "- Make sure to replace \"value1\", \"value2\", and \"value3\" with appropriate values according to your use case."
      ],
      "metadata": {
        "id": "-uX67EJS0fwx"
      }
    },
    {
      "cell_type": "markdown",
      "source": [
        "## `Example`\n",
        "let's create a simple class called Car that represents a car object. This class will have attributes such as color, make, and model, and methods such as start() and drive()."
      ],
      "metadata": {
        "id": "WoQKp37u1GxR"
      }
    },
    {
      "cell_type": "code",
      "source": [
        "class Car:\n",
        "    def __init__(self, color, make, model):\n",
        "        self.color = color\n",
        "        self.make = make\n",
        "        self.model = model\n",
        "        self.is_started = False\n",
        "\n",
        "    def start(self):\n",
        "        if not self.is_started:\n",
        "            print(f\"Starting the {self.color} {self.make} {self.model}\")\n",
        "            self.is_started = True\n",
        "        else:\n",
        "            print(\"The car is already started\")\n",
        "\n",
        "    def drive(self):\n",
        "        if self.is_started:\n",
        "            print(f\"The {self.color} {self.make} {self.model} is now driving\")\n",
        "        else:\n",
        "            print(\"Please start the car first\")\n",
        "\n",
        "# Creating an instance of the Car class\n",
        "my_car = Car(\"Red\", \"Toyota\", \"Corolla\")\n",
        "\n",
        "# Accessing attributes\n",
        "print(my_car.color)  # Output: Red\n",
        "print(my_car.make)   # Output: Toyota\n",
        "print(my_car.model)  # Output: Corolla\n",
        "\n",
        "# Calling methods\n",
        "my_car.start()       # Output: Starting the Red Toyota Corolla\n",
        "my_car.drive()       # Output: Please start the car first\n",
        "\n",
        "# Starting the car again\n",
        "my_car.start()       # Output: The car is already started\n",
        "\n",
        "# Driving the car\n",
        "my_car.drive()       # Output: The Red Toyota Corolla is now driving\n"
      ],
      "metadata": {
        "colab": {
          "base_uri": "https://localhost:8080/"
        },
        "id": "Rys24tbC1HIs",
        "outputId": "ab1233e7-6491-42f6-9864-7ab91b66a85b"
      },
      "execution_count": 37,
      "outputs": [
        {
          "output_type": "stream",
          "name": "stdout",
          "text": [
            "Red\n",
            "Toyota\n",
            "Corolla\n",
            "Starting the Red Toyota Corolla\n",
            "The Red Toyota Corolla is now driving\n",
            "The car is already started\n",
            "The Red Toyota Corolla is now driving\n"
          ]
        }
      ]
    },
    {
      "cell_type": "markdown",
      "source": [
        "`In the above example:`\n",
        "\n",
        "- We define a class Car with the __init__ method to initialize its attributes (color, make, model) and set is_started to False by default. <br>\n",
        "- We define two methods start() and drive() to simulate starting and driving the car. <br>\n",
        "- We create an instance of the Car class called my_car with color \"Red\", make \"Toyota\", and model \"Corolla\". <br>\n",
        "- We access the attributes (color, make, model) using dot notation (my_car.color) and call methods (my_car.start(), my_car.drive())."
      ],
      "metadata": {
        "id": "t2i_OMSi1eCJ"
      }
    }
  ]
}