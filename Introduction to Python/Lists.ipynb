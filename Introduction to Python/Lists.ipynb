{
  "cells": [
    {
      "cell_type": "markdown",
      "metadata": {
        "id": "5ot9AMfOWX1c"
      },
      "source": [
        "<h1><b><u>Lists in Python</u></b></h1>\n",
        "<p>Lists are ordered collections of items.\n",
        "<ul>\n",
        "<li>They can contain elements of different data types, including integers, floats, strings, and even other lists. </li>\n",
        "<li>Lists are mutable, meaning you can modify their elements after creation.</li>\n",
        "\n",
        "\n",
        "` You can declare and assign values to lists using square brackets []:`"
      ]
    },
    {
      "cell_type": "code",
      "execution_count": 1,
      "metadata": {
        "colab": {
          "base_uri": "https://localhost:8080/"
        },
        "id": "_GwB_3jLXNC1",
        "outputId": "ffd7999a-3614-4b2a-db14-e8789fe3e730"
      },
      "outputs": [
        {
          "data": {
            "text/plain": [
              "[1, 2, 3, 4, 5]"
            ]
          },
          "execution_count": 1,
          "metadata": {},
          "output_type": "execute_result"
        }
      ],
      "source": [
        "my_list = [1, 2, 3, 4, 5]\n",
        "my_list"
      ]
    },
    {
      "cell_type": "markdown",
      "metadata": {
        "id": "fLhr8vC1Xnn1"
      },
      "source": [
        "### Accessing Elements in a List:<br>\n",
        "You can access elements of a list using index notation. Python uses zero-based indexing, meaning the first element has an index of 0:"
      ]
    },
    {
      "cell_type": "code",
      "execution_count": 2,
      "metadata": {
        "colab": {
          "base_uri": "https://localhost:8080/"
        },
        "id": "OVY2ETjjXyPV",
        "outputId": "c5d1ec85-14f7-48b1-ec8f-58e23d7cacf0"
      },
      "outputs": [
        {
          "name": "stdout",
          "output_type": "stream",
          "text": [
            "1\n",
            "3\n"
          ]
        }
      ],
      "source": [
        "print(my_list[0])  # Output: 1\n",
        "print(my_list[2])  # Output: 3\n"
      ]
    },
    {
      "cell_type": "markdown",
      "metadata": {
        "id": "X-I7kPNjX-Au"
      },
      "source": [
        "-  You can also use negative indices to access elements from the end of the list:"
      ]
    },
    {
      "cell_type": "code",
      "execution_count": 3,
      "metadata": {
        "colab": {
          "base_uri": "https://localhost:8080/"
        },
        "id": "KFFj7rSEYDcH",
        "outputId": "b09dae04-10f3-4894-c9a6-e774b52ac05c"
      },
      "outputs": [
        {
          "name": "stdout",
          "output_type": "stream",
          "text": [
            "5\n",
            "4\n"
          ]
        }
      ],
      "source": [
        "print(my_list[-1])  # Output: 5 (last element)\n",
        "print(my_list[-2])  # Output: 4 (second to last element)\n"
      ]
    },
    {
      "cell_type": "markdown",
      "metadata": {
        "id": "mrTdgoYFYY_9"
      },
      "source": [
        "### Modifying Elements: <br>\n",
        "Lists are mutable, so you can change the value of elements or modify the list itself:"
      ]
    },
    {
      "cell_type": "code",
      "execution_count": 4,
      "metadata": {
        "colab": {
          "base_uri": "https://localhost:8080/"
        },
        "id": "MABF2l81Yiku",
        "outputId": "16bac700-bf29-462f-8cb6-9aa4da510970"
      },
      "outputs": [
        {
          "name": "stdout",
          "output_type": "stream",
          "text": [
            "[10, 2, 3, 4, 5]\n"
          ]
        }
      ],
      "source": [
        "my_list[0] = 10  # Modify the first element\n",
        "print(my_list)   # Output: [10, 2, 3, 4, 5]\n",
        "\n"
      ]
    },
    {
      "cell_type": "code",
      "execution_count": 5,
      "metadata": {
        "colab": {
          "base_uri": "https://localhost:8080/"
        },
        "id": "6uo7AykxYrn2",
        "outputId": "e1eff8e6-08bb-4628-a853-3fd85d41ed67"
      },
      "outputs": [
        {
          "name": "stdout",
          "output_type": "stream",
          "text": [
            "[10, 2, 3, 4, 5, 6]\n"
          ]
        }
      ],
      "source": [
        "my_list.append(6)  # Add an element to the end of the list\n",
        "print(my_list)     # Output: [10, 2, 3, 4, 5, 6]\n",
        "\n"
      ]
    },
    {
      "cell_type": "code",
      "execution_count": 6,
      "metadata": {
        "colab": {
          "base_uri": "https://localhost:8080/"
        },
        "id": "hRDKcOSnYuNP",
        "outputId": "bb755c3a-4e45-4cc9-ad83-e7ada8d5dbb4"
      },
      "outputs": [
        {
          "name": "stdout",
          "output_type": "stream",
          "text": [
            "[10, 2, 3, 4, 5, 6, 7, 8]\n"
          ]
        }
      ],
      "source": [
        "my_list.extend([7, 8])  # Extend the list by adding elements from another list\n",
        "print(my_list)          # Output: [10, 2, 3, 4, 5, 6, 7, 8]\n",
        "\n"
      ]
    },
    {
      "cell_type": "code",
      "execution_count": 7,
      "metadata": {
        "colab": {
          "base_uri": "https://localhost:8080/"
        },
        "id": "rOmW_3WHYz-_",
        "outputId": "ef4011c2-8278-498b-aabf-5ec3454407bc"
      },
      "outputs": [
        {
          "name": "stdout",
          "output_type": "stream",
          "text": [
            "[2, 3, 4, 5, 6, 7, 8]\n"
          ]
        }
      ],
      "source": [
        "del my_list[0]  # Delete an element by index\n",
        "print(my_list)  # Output: [2, 4, 5, 6, 7, 8]\n"
      ]
    },
    {
      "cell_type": "markdown",
      "metadata": {
        "id": "al8ty2BmZQ4O"
      },
      "source": [
        "`Example:`\n",
        "Let's see an example of creating a list, accessing elements, and modifying the list:"
      ]
    },
    {
      "cell_type": "code",
      "execution_count": 8,
      "metadata": {
        "colab": {
          "base_uri": "https://localhost:8080/"
        },
        "id": "tpgSGSQ3ZXXj",
        "outputId": "52f98425-2e45-4f26-f410-13c61a4a4e3d"
      },
      "outputs": [
        {
          "name": "stdout",
          "output_type": "stream",
          "text": [
            "First element: 10\n",
            "Last element: 50\n",
            "Modified list: [15, 20, 30, 40, 50]\n",
            "After append: [15, 20, 30, 40, 50, 60]\n",
            "After remove: [15, 20, 40, 50, 60]\n"
          ]
        }
      ],
      "source": [
        "# Declaration and assignment\n",
        "my_lists = [10, 20, 30, 40, 50]\n",
        "\n",
        "# Accessing elements\n",
        "print(\"First element:\", my_lists[0])  # Output: 10\n",
        "print(\"Last element:\", my_lists[-1])   # Output: 50\n",
        "\n",
        "# Modifying elements\n",
        "my_lists[0] = 15\n",
        "print(\"Modified list:\", my_lists)  # Output: [15, 20, 30, 40, 50]\n",
        "\n",
        "# Adding elements\n",
        "my_lists.append(60)\n",
        "print(\"After append:\", my_lists)  # Output: [10, 20, 30, 40, 50, 60]\n",
        "\n",
        "# Removing elements\n",
        "my_lists.remove(30)\n",
        "print(\"After remove:\", my_lists)  # Output: [10, 20 40, 50, 60]\n"
      ]
    },
    {
      "cell_type": "markdown",
      "metadata": {
        "id": "P9aL1UrpaS23"
      },
      "source": [
        "- Lists are versatile data structures in Python that can be used to store and manipulate collections of items.\n",
        "- They are widely used due to their flexibility and ease of use.\n",
        "\n",
        "\n",
        "\n",
        "\n"
      ]
    }
  ],
  "metadata": {
    "colab": {
      "provenance": []
    },
    "kernelspec": {
      "display_name": "Python 3",
      "name": "python3"
    },
    "language_info": {
      "codemirror_mode": {
        "name": "ipython",
        "version": 3
      },
      "file_extension": ".py",
      "mimetype": "text/x-python",
      "name": "python",
      "nbconvert_exporter": "python",
      "pygments_lexer": "ipython3",
      "version": "3.12.2"
    }
  },
  "nbformat": 4,
  "nbformat_minor": 0
}
