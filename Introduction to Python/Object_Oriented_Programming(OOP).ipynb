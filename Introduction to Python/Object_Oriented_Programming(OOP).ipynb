{
  "cells": [
    {
      "cell_type": "markdown",
      "metadata": {
        "id": "2bvX3RDfKsxD"
      },
      "source": [
        "## <u><b>Object Oriented Programming</b></u>"
      ]
    },
    {
      "cell_type": "markdown",
      "metadata": {
        "id": "57tosBF0LCBq"
      },
      "source": [
        "- `Object-Oriented Programming` is a way of organizing code by thinking about objects and their interactions. It helps in creating reusable, modular, and easier-to-understand code.\n",
        "<ul>\n",
        "<li><b>Objects:</b> Think of objects as things that have characteristics (attributes) and can do stuff (methods). For example, a car can have attributes like color and speed, and it can do things like drive and honk.\n",
        "<li><b>Classes:</b>Classes are like blueprints for creating objects. They define what attributes and methods an object will have. For example, you can have a class called Car that defines what a car is and what it can do.\n",
        "<li><b>Encapsulation:</b> Encapsulation is like putting things in a box. It means keeping related data and functions together inside a class so that they are easier to manage and understand. It also hides the inner workings of an object, so you only need to know how to use it, not how it works internally.\n",
        "<li><b>Inheritance:</b> Inheritance is like passing down traits from parents to children. It allows one class (the child class or subclass) to inherit attributes and methods from another class (the parent class or superclass). This helps in reusing code and creating specialized versions of objects.\n",
        "<li><b>Polymorphism:</b> Polymorphism is like having many shapes but treating them all the same way. It allows different classes to be treated as if they are the same type of object. For example, you can have different types of animals (like dogs and cats) with a common method like make_sound(), but each animal makes a different sound."
      ]
    },
    {
      "cell_type": "markdown",
      "metadata": {
        "id": "mgKA--6gK8hl"
      },
      "source": [
        "### 1. Classes and Objects:\n",
        "\n",
        "In previous session we had discussed what [classes](https://github.com/swalehmwadime/G00dlife-datascience/blob/main/Introduction%20to%20Python/Classes.ipynb) are; a class is like a blueprint for creating objects.<br>\n",
        "- An object is an instance of a class. `Continuation` of how you define a class and create objects from it:"
      ]
    },
    {
      "cell_type": "code",
      "execution_count": 1,
      "metadata": {
        "id": "VnxuWxp-IX2w"
      },
      "outputs": [],
      "source": [
        "class Dog:\n",
        "    def __init__(self, name, age):\n",
        "        self.name = name\n",
        "        self.age = age\n",
        "\n",
        "    def bark(self):\n",
        "        print(f\"{self.name} says Woof!\")"
      ]
    },
    {
      "cell_type": "markdown",
      "metadata": {
        "id": "M13QGh-4IjWb"
      },
      "source": [
        "Now, let's create objects of the `Dog` class:"
      ]
    },
    {
      "cell_type": "code",
      "execution_count": 2,
      "metadata": {
        "colab": {
          "base_uri": "https://localhost:8080/"
        },
        "id": "nBeiFsrqIkuD",
        "outputId": "c6842d80-357e-46c4-ade2-99eaa4bfe924"
      },
      "outputs": [
        {
          "name": "stdout",
          "output_type": "stream",
          "text": [
            "Buddy\n",
            "5\n",
            "Buddy says Woof!\n"
          ]
        }
      ],
      "source": [
        "# Create objects/instances of the Dog class\n",
        "dog1 = Dog(\"Buddy\", 3)\n",
        "dog2 = Dog(\"Max\", 5)\n",
        "\n",
        "# Accessing object attributes\n",
        "print(dog1.name)  # Output: Buddy\n",
        "print(dog2.age)   # Output: 5\n",
        "\n",
        "# Calling object methods\n",
        "dog1.bark()  # Output: Buddy says Woof!"
      ]
    },
    {
      "cell_type": "markdown",
      "metadata": {
        "id": "q7gUjDn2IuMO"
      },
      "source": [
        "### 2. Constructor (`__init__` method):\n",
        "\n",
        "The `__init__` method is called the constructor and is automatically invoked when you create an object. It initializes the object's state.\n",
        "\n",
        "### 3. Attributes and Methods:\n",
        "\n",
        "- **Attributes**: Variables associated with the object.\n",
        "- **Methods**: Functions associated with the object."
      ]
    },
    {
      "cell_type": "markdown",
      "metadata": {
        "id": "2kW4tRukI3xW"
      },
      "source": [
        "### 4. Inheritance:\n",
        "\n",
        "Inheritance allows a class (subclass) to inherit attributes and methods from another class (superclass). Here's how inheritance works:"
      ]
    },
    {
      "cell_type": "code",
      "execution_count": 3,
      "metadata": {
        "id": "7eFPvLdgI-3D"
      },
      "outputs": [],
      "source": [
        "class Labrador(Dog):\n",
        "    def __init__(self, name, age, color):\n",
        "        super().__init__(name, age)\n",
        "        self.color = color\n",
        "\n",
        "    def swim(self):\n",
        "        print(f\"{self.name} is swimming.\")"
      ]
    },
    {
      "cell_type": "markdown",
      "metadata": {
        "id": "aiyCWD5ZJII1"
      },
      "source": [
        " `Labrador` inherits from `Dog`:"
      ]
    },
    {
      "cell_type": "code",
      "execution_count": 4,
      "metadata": {
        "colab": {
          "base_uri": "https://localhost:8080/"
        },
        "id": "0BWbWJdgJKje",
        "outputId": "f3a74b43-67b9-4339-d691-32b3e6bbf9ec"
      },
      "outputs": [
        {
          "name": "stdout",
          "output_type": "stream",
          "text": [
            "Rocky\n",
            "Rocky says Woof!\n",
            "Rocky is swimming.\n"
          ]
        }
      ],
      "source": [
        "labrador = Labrador(\"Rocky\", 2, \"Brown\")\n",
        "\n",
        "# Accessing inherited attributes and methods\n",
        "print(labrador.name)  # Output: Rocky\n",
        "labrador.bark()       # Output: Rocky says Woof!\n",
        "\n",
        "# Calling subclass-specific method\n",
        "labrador.swim()       # Output: Rocky is swimming."
      ]
    },
    {
      "cell_type": "markdown",
      "metadata": {
        "id": "M4j2yh9-JRZX"
      },
      "source": [
        "### 5. Encapsulation:\n",
        "\n",
        "Encapsulation means bundling the data (attributes) and methods that operate on the data into a single unit (class). It restricts direct access to some of the object's components."
      ]
    },
    {
      "cell_type": "markdown",
      "metadata": {
        "id": "3eUkHa5_JW5g"
      },
      "source": [
        "### 6. Polymorphism:\n",
        "\n",
        "Polymorphism allows objects of different classes to be treated as objects of a common superclass. It enables flexibility and code reusability.\n"
      ]
    },
    {
      "cell_type": "code",
      "execution_count": 5,
      "metadata": {
        "colab": {
          "base_uri": "https://localhost:8080/"
        },
        "id": "px-UoB_oJbhc",
        "outputId": "ba1d9319-d96e-4465-8102-cc9494eb3e66"
      },
      "outputs": [
        {
          "name": "stdout",
          "output_type": "stream",
          "text": [
            "Woof!\n",
            "Meow!\n"
          ]
        }
      ],
      "source": [
        "class Animal:\n",
        "    def sound(self):\n",
        "        pass\n",
        "\n",
        "class Dog(Animal):\n",
        "    def sound(self):\n",
        "        print(\"Woof!\")\n",
        "\n",
        "class Cat(Animal):\n",
        "    def sound(self):\n",
        "        print(\"Meow!\")\n",
        "\n",
        "# Polymorphic behavior\n",
        "def make_sound(animal):\n",
        "    animal.sound()\n",
        "\n",
        "dog = Dog()\n",
        "cat = Cat()\n",
        "\n",
        "make_sound(dog)  # Output: Woof!\n",
        "make_sound(cat)  # Output: Meow!"
      ]
    },
    {
      "cell_type": "markdown",
      "metadata": {
        "id": "E1N9cSYiJirB"
      },
      "source": [
        "This covers the basics of OOP in Python. As you progress, you'll explore more advanced concepts like composition, abstraction, and interfaces. OOP provides a powerful way to structure and organize code, making it easier to manage and maintain larger projects."
      ]
    },
    {
      "cell_type": "markdown",
      "metadata": {
        "id": "E1EbBexvKNmT"
      },
      "source": [
        "<h1><b><u>Advanced Concepts of OOP</u></b></h1>"
      ]
    }
  ],
  "metadata": {
    "colab": {
      "provenance": []
    },
    "kernelspec": {
      "display_name": "Python 3",
      "name": "python3"
    },
    "language_info": {
      "codemirror_mode": {
        "name": "ipython",
        "version": 3
      },
      "file_extension": ".py",
      "mimetype": "text/x-python",
      "name": "python",
      "nbconvert_exporter": "python",
      "pygments_lexer": "ipython3",
      "version": "3.12.2"
    }
  },
  "nbformat": 4,
  "nbformat_minor": 0
}
