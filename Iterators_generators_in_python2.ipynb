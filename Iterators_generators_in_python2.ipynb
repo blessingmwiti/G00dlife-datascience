{
  "nbformat": 4,
  "nbformat_minor": 0,
  "metadata": {
    "colab": {
      "provenance": []
    },
    "kernelspec": {
      "name": "python3",
      "display_name": "Python 3"
    },
    "language_info": {
      "name": "python"
    }
  },
  "cells": [
    {
      "cell_type": "markdown",
      "source": [
        "<h1><b><u>Iterators</u></b></h1>\n",
        "\n",
        "An iterator is an object that implements two methods: `__iter__()` and `__next__()`. The `__iter__()` method returns the iterator object itself and is called once at the beginning of loops. The `__next__()` method returns the next value from the iterator and is called for each loop iteration. When there are no more items to return, it raises a `StopIteration` exception.\n",
        "\n",
        "\n",
        "#### Example: Custom Iterator"
      ],
      "metadata": {
        "id": "kVk0Z0XPjWit"
      }
    },
    {
      "cell_type": "code",
      "source": [
        "class MyIterator:\n",
        "    def __init__(self, data):\n",
        "        self.data = data\n",
        "        self.index = 0\n",
        "\n",
        "    def __iter__(self):\n",
        "        return self\n",
        "\n",
        "    def __next__(self):\n",
        "        if self.index < len(self.data):\n",
        "            item = self.data[self.index]\n",
        "            self.index += 1\n",
        "            return item\n",
        "        else:\n",
        "            raise StopIteration\n",
        "\n",
        "# Usage\n",
        "my_iter = MyIterator([1, 2, 3, 4, 5])\n",
        "for item in my_iter:\n",
        "    print(item)"
      ],
      "metadata": {
        "colab": {
          "base_uri": "https://localhost:8080/"
        },
        "id": "NfilNxDTiaat",
        "outputId": "c77ea79c-3f6f-46c4-bd59-4c3f6f0fa6a6"
      },
      "execution_count": 21,
      "outputs": [
        {
          "output_type": "stream",
          "name": "stdout",
          "text": [
            "1\n",
            "2\n",
            "3\n",
            "4\n",
            "5\n"
          ]
        }
      ]
    },
    {
      "cell_type": "markdown",
      "source": [
        "### Generators\n",
        "\n",
        "Generators are a simple and powerful tool for creating iterators. They are written like regular functions but use the `yield` statement to return data. Each time `yield` is called, the state of the generator is saved, and it can be resumed right where it left off.\n",
        "\n",
        "#### Example: Generator Function"
      ],
      "metadata": {
        "id": "uTedozWDjRBd"
      }
    },
    {
      "cell_type": "code",
      "source": [
        "def my_generator():\n",
        "    yield 1\n",
        "    yield 2\n",
        "    yield 3\n",
        "\n",
        "# Usage\n",
        "gen = my_generator()\n",
        "for item in gen:\n",
        "    print(item)"
      ],
      "metadata": {
        "colab": {
          "base_uri": "https://localhost:8080/"
        },
        "id": "rjdNsq-Ui8JE",
        "outputId": "bf9b9247-b9eb-44ba-8e1f-37d5bc138152"
      },
      "execution_count": 22,
      "outputs": [
        {
          "output_type": "stream",
          "name": "stdout",
          "text": [
            "1\n",
            "2\n",
            "3\n"
          ]
        }
      ]
    },
    {
      "cell_type": "markdown",
      "source": [
        "#### Example: Generator Expression\n",
        "\n",
        "Generator expressions provide a concise way to create generators. They are similar to list comprehensions but use parentheses instead of square brackets."
      ],
      "metadata": {
        "id": "3mD4Wt-ejb28"
      }
    },
    {
      "cell_type": "code",
      "source": [
        "gen_expr = (x * x for x in range(5))\n",
        "for item in gen_expr:\n",
        "    print(item)"
      ],
      "metadata": {
        "colab": {
          "base_uri": "https://localhost:8080/"
        },
        "id": "0On6XxIejeXc",
        "outputId": "305105d0-2f7e-46dc-b2aa-4935b1444a90"
      },
      "execution_count": 23,
      "outputs": [
        {
          "output_type": "stream",
          "name": "stdout",
          "text": [
            "0\n",
            "1\n",
            "4\n",
            "9\n",
            "16\n"
          ]
        }
      ]
    },
    {
      "cell_type": "markdown",
      "source": [
        "### Advantages of Generators\n",
        "\n",
        "- **Memory Efficiency**: Generators produce items one at a time and only when required, making them memory efficient.\n",
        "- **Represent Infinite Sequences**: Generators can represent infinite sequences without running out of memory.\n",
        "\n",
        "### Comparison\n",
        "\n",
        "| Feature               | Iterator                                  | Generator                               |\n",
        "|-----------------------|-------------------------------------------|-----------------------------------------|\n",
        "| Implementation        | Requires a class with `__iter__()` and `__next__()` methods | Simple function with `yield` statement  |\n",
        "| Memory Usage          | May require more memory                   | Memory efficient                        |\n",
        "| Complexity            | More boilerplate code                     | Less boilerplate code                   |\n",
        "| State Persistence     | State maintained manually                 | State maintained automatically          |\n",
        "\n",
        "### Examples\n",
        "\n",
        "#### Fibonacci Sequence with Generators\n"
      ],
      "metadata": {
        "id": "Nlukkz4zjoEr"
      }
    },
    {
      "cell_type": "code",
      "source": [
        "def fibonacci(n):\n",
        "    a, b = 0, 1\n",
        "    for _ in range(n):\n",
        "        yield a\n",
        "        a, b = b, a + b\n",
        "\n",
        "# Usage\n",
        "for number in fibonacci(10):\n",
        "    print(number)"
      ],
      "metadata": {
        "colab": {
          "base_uri": "https://localhost:8080/"
        },
        "id": "641y0vS4jqFz",
        "outputId": "9c6003db-f9f7-4f9d-846b-d71b6de3888d"
      },
      "execution_count": 24,
      "outputs": [
        {
          "output_type": "stream",
          "name": "stdout",
          "text": [
            "0\n",
            "1\n",
            "1\n",
            "2\n",
            "3\n",
            "5\n",
            "8\n",
            "13\n",
            "21\n",
            "34\n"
          ]
        }
      ]
    },
    {
      "cell_type": "markdown",
      "source": [
        "#### Infinite Sequence Generator"
      ],
      "metadata": {
        "id": "1Ypx_Wj4jznx"
      }
    },
    {
      "cell_type": "code",
      "source": [
        "def infinite_sequence():\n",
        "    num = 0\n",
        "    while True:\n",
        "        yield num\n",
        "        num += 1\n",
        "\n",
        "# Usage\n",
        "gen = infinite_sequence()\n",
        "for i in range(5):\n",
        "    print(next(gen))"
      ],
      "metadata": {
        "colab": {
          "base_uri": "https://localhost:8080/"
        },
        "id": "1JGeRLU7j0nJ",
        "outputId": "ca5f9d15-878a-4d0f-d751-2a995e32a5dd"
      },
      "execution_count": 25,
      "outputs": [
        {
          "output_type": "stream",
          "name": "stdout",
          "text": [
            "0\n",
            "1\n",
            "2\n",
            "3\n",
            "4\n"
          ]
        }
      ]
    },
    {
      "cell_type": "markdown",
      "source": [
        "\n",
        "- **Iterators**: Custom objects that implement `__iter__()` and `__next__()`. Useful for creating complex iteration patterns.\n",
        "- **Generators**: Functions that use `yield` to produce a sequence of results. They are simpler to write and use less memory than iterators.\n",
        "\n",
        "Both iterators and generators are essential for handling large datasets, streaming data, or implementing custom iteration patterns in a Pythonic way."
      ],
      "metadata": {
        "id": "4Mf0YLGzj71s"
      }
    }
  ]
}